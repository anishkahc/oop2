{
  "nbformat": 4,
  "nbformat_minor": 0,
  "metadata": {
    "colab": {
      "provenance": []
    },
    "kernelspec": {
      "name": "python3",
      "display_name": "Python 3"
    },
    "language_info": {
      "name": "python"
    }
  },
  "cells": [
    {
      "cell_type": "markdown",
      "source": [
        "# Name: Anishka Chaudhari\n",
        "# RUID: 212003779\n",
        "\n",
        "Q.1 Write a program that prompts for the user to input a sentence. Then check his sentence to make sure the first word of the sentence is capitalized and the sentence ends with a punctuation mark. If it is not properly written, fix the sentence, print the type of error, and print the fixed sentence.\n"
      ],
      "metadata": {
        "id": "oXXnFIjyyq7O"
      }
    },
    {
      "cell_type": "code",
      "source": [
        "inputStr = input(\"Input a sentence : \")\n",
        "if not inputStr[0].isupper():\n",
        "  inputStr = inputStr.capitalize()\n",
        "\n",
        "if inputStr[-1] not in \".?!\":\n",
        "  inputStr += \".\"\n",
        "print(\"Fixed sentence: \", inputStr)"
      ],
      "metadata": {
        "colab": {
          "base_uri": "https://localhost:8080/"
        },
        "id": "UYtWFkbfyjen",
        "outputId": "201b1644-5930-49e9-e6b0-5dcefb81d79b"
      },
      "execution_count": null,
      "outputs": [
        {
          "output_type": "stream",
          "name": "stdout",
          "text": [
            "Input a sentence : jhvbdsjbdcksajbcn\n",
            "Fixed sentence:  Jhvbdsjbdcksajbcn.\n"
          ]
        }
      ]
    },
    {
      "cell_type": "markdown",
      "source": [
        "Q.2\n",
        "\n",
        "Write a function that takes as input an English sentence (a string) and prints the total number of vowels and the total number of consonants in the sentence. The function returns nothing. Note that the sentence could have special characters such as dots, dashes, and so on.\n"
      ],
      "metadata": {
        "id": "REEWWhrW0zo5"
      }
    },
    {
      "cell_type": "code",
      "source": [
        "def count_vowels_consonants(sentence):\n",
        "    num_vowels = 0\n",
        "    num_consonants = 0\n",
        "    num_spChar = 0\n",
        "\n",
        "    for char in sentence:\n",
        "        if char.isalpha():\n",
        "            if char in \"aeiouAEIOU\":\n",
        "                num_vowels += 1\n",
        "            else:\n",
        "                num_consonants += 1\n",
        "        else: num_spChar +=1\n",
        "\n",
        "    print(\"Number of vowels:\", num_vowels)\n",
        "    print(\"Number of consonants:\", num_consonants)\n",
        "    print(\"Number of special characters: \", num_spChar)\n",
        "\n",
        "sentence = input(\"Enter a sentence: \")\n",
        "count_vowels_consonants(sentence)"
      ],
      "metadata": {
        "colab": {
          "base_uri": "https://localhost:8080/"
        },
        "id": "1qVEZEgA3Mkz",
        "outputId": "3ca24ae2-bbc1-419b-9dd8-9cf03b09e7e4"
      },
      "execution_count": null,
      "outputs": [
        {
          "output_type": "stream",
          "name": "stdout",
          "text": [
            "Enter a sentence: Quick brown fox\n",
            "Number of vowels: 4\n",
            "Number of consonants: 9\n",
            "Number of special characters:  2\n"
          ]
        }
      ]
    },
    {
      "cell_type": "markdown",
      "source": [
        "Q.3\n",
        "\n",
        "Write a program to find the 300th prime number. \n"
      ],
      "metadata": {
        "id": "Zzh3r9Kj1t2-"
      }
    },
    {
      "cell_type": "code",
      "source": [
        "n = 300\n",
        "count = 0\n",
        "num = 2\n",
        "while count < n:\n",
        "  prime = 1\n",
        "  for i in range(2, int(num**0.5) + 1):\n",
        "    if num % i == 0:\n",
        "      prime = 0\n",
        "      break\n",
        "  if prime == 1:\n",
        "      count += 1\n",
        "  num += 1\n",
        "print(\"The 300th prime number is:\", num - 1)"
      ],
      "metadata": {
        "id": "HrlXKiuY1ieN",
        "colab": {
          "base_uri": "https://localhost:8080/"
        },
        "outputId": "26697c22-0a2e-4ed6-af6f-5cc9d4d756b4"
      },
      "execution_count": null,
      "outputs": [
        {
          "output_type": "stream",
          "name": "stdout",
          "text": [
            "The 300th prime number is: 1987\n"
          ]
        }
      ]
    },
    {
      "cell_type": "markdown",
      "source": [
        "Q.4\n",
        "Body mass index (BMI) is a measure of health based on weight. It can be calculated by taking your weight in kilograms and dividing it by the square of your height in meters. Write a program that prompts the user to enter a weight in pounds and height in inches and displays the BMI. "
      ],
      "metadata": {
        "id": "k9MI6383gH15"
      }
    },
    {
      "cell_type": "code",
      "source": [
        "weight = float(input(\"Enter your weight in pounds: \"))\n",
        "height = float(input(\"Enter your height in inches: \"))\n",
        "\n",
        "weight_kg = weight *  0.453592\n",
        "height_m = height * 0.0254\n",
        "\n",
        "bmi = weight_kg/(height_m**2)\n",
        "\n",
        "print(\"Your BMI is: \", bmi)"
      ],
      "metadata": {
        "colab": {
          "base_uri": "https://localhost:8080/"
        },
        "id": "rS71AGj7gOyk",
        "outputId": "baa9c513-16c8-4418-fd19-9196a1f41a06"
      },
      "execution_count": null,
      "outputs": [
        {
          "output_type": "stream",
          "name": "stdout",
          "text": [
            "Enter your weight in pounds: 95.5\n",
            "Enter your height in inches: 50\n",
            "Your BMI is:  26.85723603447207\n"
          ]
        }
      ]
    },
    {
      "cell_type": "markdown",
      "source": [
        "Q.5\n",
        "\n",
        "Given the string 'abcdefghij', write a single line of code that will print the following (Hint}: Slicing is your friend):\n",
        "(a)  'jihgfedcba'\n",
        "(b)  'adgj'\n",
        "(c)  'igeca'\n",
        "\n"
      ],
      "metadata": {
        "id": "tpcTO1oRkuHI"
      }
    },
    {
      "cell_type": "code",
      "source": [
        "# slicing a string is [start, stop, step]\n",
        "print('abcdefghij'[::-1])\n",
        "print('abcdefghij'[::3])\n",
        "print('abcdefghij'[::-1][1::2])"
      ],
      "metadata": {
        "colab": {
          "base_uri": "https://localhost:8080/"
        },
        "id": "amVw_oYphMQD",
        "outputId": "77dda5dc-2887-4ea5-8d40-4de847b44410"
      },
      "execution_count": null,
      "outputs": [
        {
          "output_type": "stream",
          "name": "stdout",
          "text": [
            "jihgfedcba\n",
            "adgj\n",
            "igeca\n"
          ]
        }
      ]
    },
    {
      "cell_type": "markdown",
      "source": [
        "Q.6\n",
        "\n",
        "Write a program that accepts a single numeric digit input, n, and computes the value of \n",
        "      n + nn + nnn \n",
        "(all in the decimal number system).\n"
      ],
      "metadata": {
        "id": "oVGHtqrWkxv4"
      }
    },
    {
      "cell_type": "code",
      "source": [
        "n = input(\"Enter a number n: \")\n",
        "value = int(n)+int(n+n)+int(n+n+n)\n",
        "print(value)"
      ],
      "metadata": {
        "colab": {
          "base_uri": "https://localhost:8080/"
        },
        "id": "UEoVhgbhkzOP",
        "outputId": "d2e122cb-4fb6-4637-8286-5ec6fe3be4d9"
      },
      "execution_count": null,
      "outputs": [
        {
          "output_type": "stream",
          "name": "stdout",
          "text": [
            "Enter a number n: 1\n",
            "123\n"
          ]
        }
      ]
    },
    {
      "cell_type": "markdown",
      "source": [
        "Q.7\n",
        "\n",
        "Write a single line of code whose value is True if the variable a_string contains at least one vowel.\n"
      ],
      "metadata": {
        "id": "pKESjCY-lkv1"
      }
    },
    {
      "cell_type": "code",
      "source": [
        "a_string = \"Anishka\"\n",
        "if (char in \"aeiouAEIOU\" for char in a_string): print(\"True\")"
      ],
      "metadata": {
        "colab": {
          "base_uri": "https://localhost:8080/"
        },
        "id": "Z4m-lFjullMg",
        "outputId": "45f4d1c0-928a-4a74-ebd0-27358996bca2"
      },
      "execution_count": null,
      "outputs": [
        {
          "output_type": "stream",
          "name": "stdout",
          "text": [
            "True\n"
          ]
        }
      ]
    },
    {
      "cell_type": "markdown",
      "source": [
        "Q.8 \n",
        "Write a program that reads the balance and the annual percentage interest rate and displays the interest for the next month."
      ],
      "metadata": {
        "id": "SxwGaQRLnZdH"
      }
    },
    {
      "cell_type": "code",
      "source": [
        "bal = float(input(\"Enter balance: \"))\n",
        "r = float(input(\"Enter the annual percentage interest rate: \"))\n",
        "intRate = bal * (r/1200)\n",
        "print(\"The interest for next month is: \", intRate)"
      ],
      "metadata": {
        "colab": {
          "base_uri": "https://localhost:8080/"
        },
        "id": "EOo7pDGrnsb5",
        "outputId": "7b05d92c-9379-44ce-eaf2-7a3339fa98ce"
      },
      "execution_count": null,
      "outputs": [
        {
          "output_type": "stream",
          "name": "stdout",
          "text": [
            "Enter balance: 1000\n",
            "Enter the annual percentage interest rate: 3.5\n",
            "The interest for next month is:  2.916666666666667\n"
          ]
        }
      ]
    },
    {
      "cell_type": "markdown",
      "source": [
        "Q.9\n",
        "\n",
        "You are creating a new account and need to provide a password. The password has the following requirements:\n",
        "\n",
        "(a)  The password must be at least 6 characters and at most 20 characters.\n",
        "(b)  It must contain at least one lowercase letter, one uppercase letter, \n",
        "       and one number.\n",
        "\n",
        "Write a program that prompts the user to input a password and checks if the password is valid. If the password is valid, print a confirmation statement. If it is not, print a statement that the password is not valid.\n"
      ],
      "metadata": {
        "id": "GwQgXd1prFwj"
      }
    },
    {
      "cell_type": "code",
      "source": [
        "password = input(\"Enter the password: \")\n",
        "if len(password) <6 or len(password) >20: print(\"The password is not valid. The password must be at least 6 characters and at most 20 characters.\")\n",
        "is_lower = False\n",
        "is_upper = False\n",
        "is_digit = False\n",
        "for char in password:\n",
        "   if char.islower(): is_lower = True\n",
        "   elif char.isupper(): is_upper = True\n",
        "   elif char.isdigit(): is_digit = True\n",
        "if not is_lower or not is_upper or not is_digit:\n",
        "   print(\"The password is not valid. It must contain at least one lowercase letter, one uppercase letter, and one number.\")\n",
        "else: print(\"The password is valid.\")"
      ],
      "metadata": {
        "colab": {
          "base_uri": "https://localhost:8080/"
        },
        "id": "xKDbdS19rGST",
        "outputId": "c908dd18-4b16-4db1-e4d2-880702d00f2e"
      },
      "execution_count": null,
      "outputs": [
        {
          "output_type": "stream",
          "name": "stdout",
          "text": [
            "Enter the password: ahjXhajb90\n",
            "The password is valid.\n"
          ]
        }
      ]
    },
    {
      "cell_type": "markdown",
      "source": [
        "Q.10\n",
        "\n",
        "Write a program that returns True if the sentence string sentence_str contains every letter of the alphabet. If the sentence does not contain each letter, print which ones are missing. The results should not depend on capitalization (thus case-insensitive).\n"
      ],
      "metadata": {
        "id": "o9hxZb5U82Ip"
      }
    },
    {
      "cell_type": "code",
      "source": [
        "sentence_str = input(\"Enter sentence: \")\n",
        "sentence_str = sentence_str.lower()\n",
        "alphabet = set(\"abcdefghijklmnopqrstuvwxyz\")\n",
        "sentence_set = set(sentence_str)\n",
        "missing_letters = alphabet - sentence_set\n",
        "if len(missing_letters) != 0:  print(\"The missing letter from the sentence are: \", ', '.join(sorted(missing_letters)))"
      ],
      "metadata": {
        "colab": {
          "base_uri": "https://localhost:8080/"
        },
        "id": "HXkiZxxI82re",
        "outputId": "de6495ba-2c9b-4c83-e775-eced1dd035fe"
      },
      "execution_count": null,
      "outputs": [
        {
          "output_type": "stream",
          "name": "stdout",
          "text": [
            "Enter sentence: The quick brown fox\n",
            "The missing letter from the sentence are:  a, d, g, j, l, m, p, s, v, y, z\n"
          ]
        }
      ]
    },
    {
      "cell_type": "markdown",
      "source": [
        "Q.11\n",
        "\n",
        "Write a program to find all perfect numbers between 1 and 5000.    \n",
        "\n"
      ],
      "metadata": {
        "id": "XLF713WwmCIM"
      }
    },
    {
      "cell_type": "code",
      "source": [
        "for num in range(0,5000):\n",
        "  factors=0\n",
        "  for i in range(1,int(num/2+1)):\n",
        "    if num % i == 0: factors += i\n",
        "  if factors == num: print(num, \" is a perfect number\")"
      ],
      "metadata": {
        "colab": {
          "base_uri": "https://localhost:8080/"
        },
        "id": "gGEdUuk5mEis",
        "outputId": "4edb38c4-cc1c-44b0-d121-3346c82e9fea"
      },
      "execution_count": null,
      "outputs": [
        {
          "output_type": "stream",
          "name": "stdout",
          "text": [
            "0  is a perfect number\n",
            "6  is a perfect number\n",
            "28  is a perfect number\n",
            "496  is a perfect number\n"
          ]
        }
      ]
    }
  ]
}